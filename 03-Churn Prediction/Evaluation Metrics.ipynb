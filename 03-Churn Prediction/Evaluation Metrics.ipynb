{
 "cells": [
  {
   "cell_type": "markdown",
   "id": "04349ceb-d9b9-470e-8d1c-a42cdfdc40a7",
   "metadata": {},
   "source": [
    "## Evaluation Metrics"
   ]
  },
  {
   "cell_type": "markdown",
   "id": "c3ce82d3-6bb0-4f34-a734-7462084c6f35",
   "metadata": {},
   "source": [
    "### 1. Recap of data preparation, model training and use."
   ]
  },
  {
   "cell_type": "code",
   "execution_count": 1708,
   "id": "056449bf-3577-4dd7-9755-1d284d5c7608",
   "metadata": {},
   "outputs": [],
   "source": [
    "import pandas as pd\n",
    "import numpy as np\n",
    "\n",
    "import seaborn as sns\n",
    "from matplotlib import pyplot as plt\n",
    "%matplotlib inline"
   ]
  },
  {
   "cell_type": "code",
   "execution_count": 1709,
   "id": "2f2442e0-cce7-4b8c-9c7c-f774c35f8ba6",
   "metadata": {},
   "outputs": [],
   "source": [
    "from sklearn.model_selection import train_test_split\n",
    "from sklearn.feature_extraction import DictVectorizer\n",
    "from sklearn.linear_model import LogisticRegression"
   ]
  },
  {
   "cell_type": "code",
   "execution_count": 1710,
   "id": "c33fe238-3b54-470c-b8b7-8c92c9d19c43",
   "metadata": {},
   "outputs": [],
   "source": [
    "data = 'https://raw.githubusercontent.com/alexeygrigorev/mlbookcamp-code/master/chapter-03-churn-prediction/WA_Fn-UseC_-Telco-Customer-Churn.csv'"
   ]
  },
  {
   "cell_type": "code",
   "execution_count": 1711,
   "id": "423bc1db-d080-42d9-b01e-6a7ff335b0b2",
   "metadata": {},
   "outputs": [],
   "source": [
    "df = pd.read_csv(data)"
   ]
  },
  {
   "cell_type": "code",
   "execution_count": 1712,
   "id": "7a2c0cec-006f-4342-88cf-c39f6dde4bd1",
   "metadata": {},
   "outputs": [],
   "source": [
    "df.columns = df.columns.str.lower().str.replace(' ', '_')\n",
    "\n",
    "categorical_columns = list(df.dtypes[df.dtypes == 'object'].index)\n",
    "\n",
    "for c in categorical_columns:\n",
    "    df[c] = df[c].str.lower().str.replace(' ', '_')\n",
    "\n",
    "df.totalcharges = pd.to_numeric(df.totalcharges, errors='coerce')\n",
    "df.totalcharges = df.totalcharges.fillna(0)\n",
    "\n",
    "df.churn = (df.churn == 'yes').astype(int)"
   ]
  },
  {
   "cell_type": "code",
   "execution_count": 1713,
   "id": "db80e1ff-d280-4c58-823a-ec604c60d0a2",
   "metadata": {},
   "outputs": [],
   "source": [
    "df_full_train, df_test = train_test_split(df, test_size=0.2, random_state=1)\n",
    "df_train, df_val = train_test_split(df_full_train, test_size=0.25, random_state=1)\n",
    "\n",
    "df_train.reset_index(drop=True)\n",
    "df_val.reset_index(drop=True)\n",
    "df_test.reset_index(drop=True)\n",
    "\n",
    "y_train = df_train.churn.values\n",
    "y_val = df_val.churn.values\n",
    "y_test = df_test.churn.values\n",
    "\n",
    "del df_train['churn']\n",
    "del df_val['churn']\n",
    "del df_test['churn']"
   ]
  },
  {
   "cell_type": "code",
   "execution_count": 1714,
   "id": "3b417d73-7347-49cd-8796-72430df51ab3",
   "metadata": {},
   "outputs": [],
   "source": [
    "numerical = ['tenure', 'monthlycharges', 'totalcharges']\n",
    "\n",
    "categorical = ['gender', 'seniorcitizen', 'partner', 'dependents',\n",
    "        'phoneservice', 'multiplelines', 'internetservice',\n",
    "       'onlinesecurity', 'onlinebackup', 'deviceprotection', 'techsupport',\n",
    "       'streamingtv', 'streamingmovies', 'contract', 'paperlessbilling',\n",
    "       'paymentmethod']"
   ]
  },
  {
   "cell_type": "code",
   "execution_count": 1715,
   "id": "5f1b0f05-f902-4208-bcc0-fef8254ff50d",
   "metadata": {},
   "outputs": [
    {
     "data": {
      "text/html": [
       "<style>#sk-container-id-39 {\n",
       "  /* Definition of color scheme common for light and dark mode */\n",
       "  --sklearn-color-text: black;\n",
       "  --sklearn-color-line: gray;\n",
       "  /* Definition of color scheme for unfitted estimators */\n",
       "  --sklearn-color-unfitted-level-0: #fff5e6;\n",
       "  --sklearn-color-unfitted-level-1: #f6e4d2;\n",
       "  --sklearn-color-unfitted-level-2: #ffe0b3;\n",
       "  --sklearn-color-unfitted-level-3: chocolate;\n",
       "  /* Definition of color scheme for fitted estimators */\n",
       "  --sklearn-color-fitted-level-0: #f0f8ff;\n",
       "  --sklearn-color-fitted-level-1: #d4ebff;\n",
       "  --sklearn-color-fitted-level-2: #b3dbfd;\n",
       "  --sklearn-color-fitted-level-3: cornflowerblue;\n",
       "\n",
       "  /* Specific color for light theme */\n",
       "  --sklearn-color-text-on-default-background: var(--sg-text-color, var(--theme-code-foreground, var(--jp-content-font-color1, black)));\n",
       "  --sklearn-color-background: var(--sg-background-color, var(--theme-background, var(--jp-layout-color0, white)));\n",
       "  --sklearn-color-border-box: var(--sg-text-color, var(--theme-code-foreground, var(--jp-content-font-color1, black)));\n",
       "  --sklearn-color-icon: #696969;\n",
       "\n",
       "  @media (prefers-color-scheme: dark) {\n",
       "    /* Redefinition of color scheme for dark theme */\n",
       "    --sklearn-color-text-on-default-background: var(--sg-text-color, var(--theme-code-foreground, var(--jp-content-font-color1, white)));\n",
       "    --sklearn-color-background: var(--sg-background-color, var(--theme-background, var(--jp-layout-color0, #111)));\n",
       "    --sklearn-color-border-box: var(--sg-text-color, var(--theme-code-foreground, var(--jp-content-font-color1, white)));\n",
       "    --sklearn-color-icon: #878787;\n",
       "  }\n",
       "}\n",
       "\n",
       "#sk-container-id-39 {\n",
       "  color: var(--sklearn-color-text);\n",
       "}\n",
       "\n",
       "#sk-container-id-39 pre {\n",
       "  padding: 0;\n",
       "}\n",
       "\n",
       "#sk-container-id-39 input.sk-hidden--visually {\n",
       "  border: 0;\n",
       "  clip: rect(1px 1px 1px 1px);\n",
       "  clip: rect(1px, 1px, 1px, 1px);\n",
       "  height: 1px;\n",
       "  margin: -1px;\n",
       "  overflow: hidden;\n",
       "  padding: 0;\n",
       "  position: absolute;\n",
       "  width: 1px;\n",
       "}\n",
       "\n",
       "#sk-container-id-39 div.sk-dashed-wrapped {\n",
       "  border: 1px dashed var(--sklearn-color-line);\n",
       "  margin: 0 0.4em 0.5em 0.4em;\n",
       "  box-sizing: border-box;\n",
       "  padding-bottom: 0.4em;\n",
       "  background-color: var(--sklearn-color-background);\n",
       "}\n",
       "\n",
       "#sk-container-id-39 div.sk-container {\n",
       "  /* jupyter's `normalize.less` sets `[hidden] { display: none; }`\n",
       "     but bootstrap.min.css set `[hidden] { display: none !important; }`\n",
       "     so we also need the `!important` here to be able to override the\n",
       "     default hidden behavior on the sphinx rendered scikit-learn.org.\n",
       "     See: https://github.com/scikit-learn/scikit-learn/issues/21755 */\n",
       "  display: inline-block !important;\n",
       "  position: relative;\n",
       "}\n",
       "\n",
       "#sk-container-id-39 div.sk-text-repr-fallback {\n",
       "  display: none;\n",
       "}\n",
       "\n",
       "div.sk-parallel-item,\n",
       "div.sk-serial,\n",
       "div.sk-item {\n",
       "  /* draw centered vertical line to link estimators */\n",
       "  background-image: linear-gradient(var(--sklearn-color-text-on-default-background), var(--sklearn-color-text-on-default-background));\n",
       "  background-size: 2px 100%;\n",
       "  background-repeat: no-repeat;\n",
       "  background-position: center center;\n",
       "}\n",
       "\n",
       "/* Parallel-specific style estimator block */\n",
       "\n",
       "#sk-container-id-39 div.sk-parallel-item::after {\n",
       "  content: \"\";\n",
       "  width: 100%;\n",
       "  border-bottom: 2px solid var(--sklearn-color-text-on-default-background);\n",
       "  flex-grow: 1;\n",
       "}\n",
       "\n",
       "#sk-container-id-39 div.sk-parallel {\n",
       "  display: flex;\n",
       "  align-items: stretch;\n",
       "  justify-content: center;\n",
       "  background-color: var(--sklearn-color-background);\n",
       "  position: relative;\n",
       "}\n",
       "\n",
       "#sk-container-id-39 div.sk-parallel-item {\n",
       "  display: flex;\n",
       "  flex-direction: column;\n",
       "}\n",
       "\n",
       "#sk-container-id-39 div.sk-parallel-item:first-child::after {\n",
       "  align-self: flex-end;\n",
       "  width: 50%;\n",
       "}\n",
       "\n",
       "#sk-container-id-39 div.sk-parallel-item:last-child::after {\n",
       "  align-self: flex-start;\n",
       "  width: 50%;\n",
       "}\n",
       "\n",
       "#sk-container-id-39 div.sk-parallel-item:only-child::after {\n",
       "  width: 0;\n",
       "}\n",
       "\n",
       "/* Serial-specific style estimator block */\n",
       "\n",
       "#sk-container-id-39 div.sk-serial {\n",
       "  display: flex;\n",
       "  flex-direction: column;\n",
       "  align-items: center;\n",
       "  background-color: var(--sklearn-color-background);\n",
       "  padding-right: 1em;\n",
       "  padding-left: 1em;\n",
       "}\n",
       "\n",
       "\n",
       "/* Toggleable style: style used for estimator/Pipeline/ColumnTransformer box that is\n",
       "clickable and can be expanded/collapsed.\n",
       "- Pipeline and ColumnTransformer use this feature and define the default style\n",
       "- Estimators will overwrite some part of the style using the `sk-estimator` class\n",
       "*/\n",
       "\n",
       "/* Pipeline and ColumnTransformer style (default) */\n",
       "\n",
       "#sk-container-id-39 div.sk-toggleable {\n",
       "  /* Default theme specific background. It is overwritten whether we have a\n",
       "  specific estimator or a Pipeline/ColumnTransformer */\n",
       "  background-color: var(--sklearn-color-background);\n",
       "}\n",
       "\n",
       "/* Toggleable label */\n",
       "#sk-container-id-39 label.sk-toggleable__label {\n",
       "  cursor: pointer;\n",
       "  display: block;\n",
       "  width: 100%;\n",
       "  margin-bottom: 0;\n",
       "  padding: 0.5em;\n",
       "  box-sizing: border-box;\n",
       "  text-align: center;\n",
       "}\n",
       "\n",
       "#sk-container-id-39 label.sk-toggleable__label-arrow:before {\n",
       "  /* Arrow on the left of the label */\n",
       "  content: \"▸\";\n",
       "  float: left;\n",
       "  margin-right: 0.25em;\n",
       "  color: var(--sklearn-color-icon);\n",
       "}\n",
       "\n",
       "#sk-container-id-39 label.sk-toggleable__label-arrow:hover:before {\n",
       "  color: var(--sklearn-color-text);\n",
       "}\n",
       "\n",
       "/* Toggleable content - dropdown */\n",
       "\n",
       "#sk-container-id-39 div.sk-toggleable__content {\n",
       "  max-height: 0;\n",
       "  max-width: 0;\n",
       "  overflow: hidden;\n",
       "  text-align: left;\n",
       "  /* unfitted */\n",
       "  background-color: var(--sklearn-color-unfitted-level-0);\n",
       "}\n",
       "\n",
       "#sk-container-id-39 div.sk-toggleable__content.fitted {\n",
       "  /* fitted */\n",
       "  background-color: var(--sklearn-color-fitted-level-0);\n",
       "}\n",
       "\n",
       "#sk-container-id-39 div.sk-toggleable__content pre {\n",
       "  margin: 0.2em;\n",
       "  border-radius: 0.25em;\n",
       "  color: var(--sklearn-color-text);\n",
       "  /* unfitted */\n",
       "  background-color: var(--sklearn-color-unfitted-level-0);\n",
       "}\n",
       "\n",
       "#sk-container-id-39 div.sk-toggleable__content.fitted pre {\n",
       "  /* unfitted */\n",
       "  background-color: var(--sklearn-color-fitted-level-0);\n",
       "}\n",
       "\n",
       "#sk-container-id-39 input.sk-toggleable__control:checked~div.sk-toggleable__content {\n",
       "  /* Expand drop-down */\n",
       "  max-height: 200px;\n",
       "  max-width: 100%;\n",
       "  overflow: auto;\n",
       "}\n",
       "\n",
       "#sk-container-id-39 input.sk-toggleable__control:checked~label.sk-toggleable__label-arrow:before {\n",
       "  content: \"▾\";\n",
       "}\n",
       "\n",
       "/* Pipeline/ColumnTransformer-specific style */\n",
       "\n",
       "#sk-container-id-39 div.sk-label input.sk-toggleable__control:checked~label.sk-toggleable__label {\n",
       "  color: var(--sklearn-color-text);\n",
       "  background-color: var(--sklearn-color-unfitted-level-2);\n",
       "}\n",
       "\n",
       "#sk-container-id-39 div.sk-label.fitted input.sk-toggleable__control:checked~label.sk-toggleable__label {\n",
       "  background-color: var(--sklearn-color-fitted-level-2);\n",
       "}\n",
       "\n",
       "/* Estimator-specific style */\n",
       "\n",
       "/* Colorize estimator box */\n",
       "#sk-container-id-39 div.sk-estimator input.sk-toggleable__control:checked~label.sk-toggleable__label {\n",
       "  /* unfitted */\n",
       "  background-color: var(--sklearn-color-unfitted-level-2);\n",
       "}\n",
       "\n",
       "#sk-container-id-39 div.sk-estimator.fitted input.sk-toggleable__control:checked~label.sk-toggleable__label {\n",
       "  /* fitted */\n",
       "  background-color: var(--sklearn-color-fitted-level-2);\n",
       "}\n",
       "\n",
       "#sk-container-id-39 div.sk-label label.sk-toggleable__label,\n",
       "#sk-container-id-39 div.sk-label label {\n",
       "  /* The background is the default theme color */\n",
       "  color: var(--sklearn-color-text-on-default-background);\n",
       "}\n",
       "\n",
       "/* On hover, darken the color of the background */\n",
       "#sk-container-id-39 div.sk-label:hover label.sk-toggleable__label {\n",
       "  color: var(--sklearn-color-text);\n",
       "  background-color: var(--sklearn-color-unfitted-level-2);\n",
       "}\n",
       "\n",
       "/* Label box, darken color on hover, fitted */\n",
       "#sk-container-id-39 div.sk-label.fitted:hover label.sk-toggleable__label.fitted {\n",
       "  color: var(--sklearn-color-text);\n",
       "  background-color: var(--sklearn-color-fitted-level-2);\n",
       "}\n",
       "\n",
       "/* Estimator label */\n",
       "\n",
       "#sk-container-id-39 div.sk-label label {\n",
       "  font-family: monospace;\n",
       "  font-weight: bold;\n",
       "  display: inline-block;\n",
       "  line-height: 1.2em;\n",
       "}\n",
       "\n",
       "#sk-container-id-39 div.sk-label-container {\n",
       "  text-align: center;\n",
       "}\n",
       "\n",
       "/* Estimator-specific */\n",
       "#sk-container-id-39 div.sk-estimator {\n",
       "  font-family: monospace;\n",
       "  border: 1px dotted var(--sklearn-color-border-box);\n",
       "  border-radius: 0.25em;\n",
       "  box-sizing: border-box;\n",
       "  margin-bottom: 0.5em;\n",
       "  /* unfitted */\n",
       "  background-color: var(--sklearn-color-unfitted-level-0);\n",
       "}\n",
       "\n",
       "#sk-container-id-39 div.sk-estimator.fitted {\n",
       "  /* fitted */\n",
       "  background-color: var(--sklearn-color-fitted-level-0);\n",
       "}\n",
       "\n",
       "/* on hover */\n",
       "#sk-container-id-39 div.sk-estimator:hover {\n",
       "  /* unfitted */\n",
       "  background-color: var(--sklearn-color-unfitted-level-2);\n",
       "}\n",
       "\n",
       "#sk-container-id-39 div.sk-estimator.fitted:hover {\n",
       "  /* fitted */\n",
       "  background-color: var(--sklearn-color-fitted-level-2);\n",
       "}\n",
       "\n",
       "/* Specification for estimator info (e.g. \"i\" and \"?\") */\n",
       "\n",
       "/* Common style for \"i\" and \"?\" */\n",
       "\n",
       ".sk-estimator-doc-link,\n",
       "a:link.sk-estimator-doc-link,\n",
       "a:visited.sk-estimator-doc-link {\n",
       "  float: right;\n",
       "  font-size: smaller;\n",
       "  line-height: 1em;\n",
       "  font-family: monospace;\n",
       "  background-color: var(--sklearn-color-background);\n",
       "  border-radius: 1em;\n",
       "  height: 1em;\n",
       "  width: 1em;\n",
       "  text-decoration: none !important;\n",
       "  margin-left: 1ex;\n",
       "  /* unfitted */\n",
       "  border: var(--sklearn-color-unfitted-level-1) 1pt solid;\n",
       "  color: var(--sklearn-color-unfitted-level-1);\n",
       "}\n",
       "\n",
       ".sk-estimator-doc-link.fitted,\n",
       "a:link.sk-estimator-doc-link.fitted,\n",
       "a:visited.sk-estimator-doc-link.fitted {\n",
       "  /* fitted */\n",
       "  border: var(--sklearn-color-fitted-level-1) 1pt solid;\n",
       "  color: var(--sklearn-color-fitted-level-1);\n",
       "}\n",
       "\n",
       "/* On hover */\n",
       "div.sk-estimator:hover .sk-estimator-doc-link:hover,\n",
       ".sk-estimator-doc-link:hover,\n",
       "div.sk-label-container:hover .sk-estimator-doc-link:hover,\n",
       ".sk-estimator-doc-link:hover {\n",
       "  /* unfitted */\n",
       "  background-color: var(--sklearn-color-unfitted-level-3);\n",
       "  color: var(--sklearn-color-background);\n",
       "  text-decoration: none;\n",
       "}\n",
       "\n",
       "div.sk-estimator.fitted:hover .sk-estimator-doc-link.fitted:hover,\n",
       ".sk-estimator-doc-link.fitted:hover,\n",
       "div.sk-label-container:hover .sk-estimator-doc-link.fitted:hover,\n",
       ".sk-estimator-doc-link.fitted:hover {\n",
       "  /* fitted */\n",
       "  background-color: var(--sklearn-color-fitted-level-3);\n",
       "  color: var(--sklearn-color-background);\n",
       "  text-decoration: none;\n",
       "}\n",
       "\n",
       "/* Span, style for the box shown on hovering the info icon */\n",
       ".sk-estimator-doc-link span {\n",
       "  display: none;\n",
       "  z-index: 9999;\n",
       "  position: relative;\n",
       "  font-weight: normal;\n",
       "  right: .2ex;\n",
       "  padding: .5ex;\n",
       "  margin: .5ex;\n",
       "  width: min-content;\n",
       "  min-width: 20ex;\n",
       "  max-width: 50ex;\n",
       "  color: var(--sklearn-color-text);\n",
       "  box-shadow: 2pt 2pt 4pt #999;\n",
       "  /* unfitted */\n",
       "  background: var(--sklearn-color-unfitted-level-0);\n",
       "  border: .5pt solid var(--sklearn-color-unfitted-level-3);\n",
       "}\n",
       "\n",
       ".sk-estimator-doc-link.fitted span {\n",
       "  /* fitted */\n",
       "  background: var(--sklearn-color-fitted-level-0);\n",
       "  border: var(--sklearn-color-fitted-level-3);\n",
       "}\n",
       "\n",
       ".sk-estimator-doc-link:hover span {\n",
       "  display: block;\n",
       "}\n",
       "\n",
       "/* \"?\"-specific style due to the `<a>` HTML tag */\n",
       "\n",
       "#sk-container-id-39 a.estimator_doc_link {\n",
       "  float: right;\n",
       "  font-size: 1rem;\n",
       "  line-height: 1em;\n",
       "  font-family: monospace;\n",
       "  background-color: var(--sklearn-color-background);\n",
       "  border-radius: 1rem;\n",
       "  height: 1rem;\n",
       "  width: 1rem;\n",
       "  text-decoration: none;\n",
       "  /* unfitted */\n",
       "  color: var(--sklearn-color-unfitted-level-1);\n",
       "  border: var(--sklearn-color-unfitted-level-1) 1pt solid;\n",
       "}\n",
       "\n",
       "#sk-container-id-39 a.estimator_doc_link.fitted {\n",
       "  /* fitted */\n",
       "  border: var(--sklearn-color-fitted-level-1) 1pt solid;\n",
       "  color: var(--sklearn-color-fitted-level-1);\n",
       "}\n",
       "\n",
       "/* On hover */\n",
       "#sk-container-id-39 a.estimator_doc_link:hover {\n",
       "  /* unfitted */\n",
       "  background-color: var(--sklearn-color-unfitted-level-3);\n",
       "  color: var(--sklearn-color-background);\n",
       "  text-decoration: none;\n",
       "}\n",
       "\n",
       "#sk-container-id-39 a.estimator_doc_link.fitted:hover {\n",
       "  /* fitted */\n",
       "  background-color: var(--sklearn-color-fitted-level-3);\n",
       "}\n",
       "</style><div id=\"sk-container-id-39\" class=\"sk-top-container\"><div class=\"sk-text-repr-fallback\"><pre>LogisticRegression(random_state=1, solver=&#x27;liblinear&#x27;)</pre><b>In a Jupyter environment, please rerun this cell to show the HTML representation or trust the notebook. <br />On GitHub, the HTML representation is unable to render, please try loading this page with nbviewer.org.</b></div><div class=\"sk-container\" hidden><div class=\"sk-item\"><div class=\"sk-estimator fitted sk-toggleable\"><input class=\"sk-toggleable__control sk-hidden--visually\" id=\"sk-estimator-id-39\" type=\"checkbox\" checked><label for=\"sk-estimator-id-39\" class=\"sk-toggleable__label fitted sk-toggleable__label-arrow fitted\">&nbsp;&nbsp;LogisticRegression<a class=\"sk-estimator-doc-link fitted\" rel=\"noreferrer\" target=\"_blank\" href=\"https://scikit-learn.org/1.5/modules/generated/sklearn.linear_model.LogisticRegression.html\">?<span>Documentation for LogisticRegression</span></a><span class=\"sk-estimator-doc-link fitted\">i<span>Fitted</span></span></label><div class=\"sk-toggleable__content fitted\"><pre>LogisticRegression(random_state=1, solver=&#x27;liblinear&#x27;)</pre></div> </div></div></div></div>"
      ],
      "text/plain": [
       "LogisticRegression(random_state=1, solver='liblinear')"
      ]
     },
     "execution_count": 1715,
     "metadata": {},
     "output_type": "execute_result"
    }
   ],
   "source": [
    "dv = DictVectorizer(sparse=False)\n",
    "\n",
    "train_dicts = df_train[categorical + numerical].to_dict(orient='records')\n",
    "X_train = dv.fit_transform(train_dicts)\n",
    "\n",
    "model = LogisticRegression(solver='liblinear', random_state=1)\n",
    "model.fit(X_train, y_train)"
   ]
  },
  {
   "cell_type": "code",
   "execution_count": 1716,
   "id": "a7ef6132-c616-4e8c-b902-43d9bb81591a",
   "metadata": {},
   "outputs": [
    {
     "data": {
      "text/plain": [
       "np.float64(0.8055358410220014)"
      ]
     },
     "execution_count": 1716,
     "metadata": {},
     "output_type": "execute_result"
    }
   ],
   "source": [
    "val_dicts = df_val[categorical + numerical].to_dict(orient='records')\n",
    "X_val = dv.transform(val_dicts)\n",
    "\n",
    "y_pred = model.predict_proba(X_val)[:, 1]\n",
    "churn_decision = (y_pred >= 0.5)\n",
    "(y_val == churn_decision).mean()"
   ]
  },
  {
   "cell_type": "code",
   "execution_count": null,
   "id": "e6b1070b-5513-45df-9b39-ef71a6cbcb16",
   "metadata": {},
   "outputs": [],
   "source": []
  },
  {
   "cell_type": "markdown",
   "id": "f4c78dc8-5d24-4aa5-97c7-db939f0ffd82",
   "metadata": {},
   "source": [
    "### 2. Accuracy and dummy model\n",
    "- Evaluate the model on different thresholds\n",
    "- Check the accuracy of dummy baselines"
   ]
  },
  {
   "cell_type": "code",
   "execution_count": 1717,
   "id": "3c9a2c73-ac01-4cf1-93a4-4495cdd192c0",
   "metadata": {},
   "outputs": [
    {
     "data": {
      "text/plain": [
       "1409"
      ]
     },
     "execution_count": 1717,
     "metadata": {},
     "output_type": "execute_result"
    }
   ],
   "source": [
    "len(y_val)"
   ]
  },
  {
   "cell_type": "code",
   "execution_count": 1718,
   "id": "403b6b43-6718-48bb-86dc-0d3413894641",
   "metadata": {},
   "outputs": [
    {
     "data": {
      "text/plain": [
       "np.int64(1135)"
      ]
     },
     "execution_count": 1718,
     "metadata": {},
     "output_type": "execute_result"
    }
   ],
   "source": [
    "(y_val == churn_decision).sum()"
   ]
  },
  {
   "cell_type": "code",
   "execution_count": 1719,
   "id": "03bc648a-fec3-4fb1-8fb6-44d10485c285",
   "metadata": {},
   "outputs": [],
   "source": [
    "from sklearn.metrics import accuracy_score"
   ]
  },
  {
   "cell_type": "code",
   "execution_count": 1720,
   "id": "69c1fa0f-97f9-4952-a59c-fbf4f69ba1b7",
   "metadata": {},
   "outputs": [
    {
     "data": {
      "text/plain": [
       "0.8055358410220014"
      ]
     },
     "execution_count": 1720,
     "metadata": {},
     "output_type": "execute_result"
    }
   ],
   "source": [
    "accuracy_score(y_val, y_pred >= 0.5)"
   ]
  },
  {
   "cell_type": "code",
   "execution_count": 1721,
   "id": "02a01ba1-eab0-4ad7-aa1f-ac610c1e0ca2",
   "metadata": {},
   "outputs": [
    {
     "name": "stdout",
     "output_type": "stream",
     "text": [
      "0.00 0.274\n",
      "0.05 0.508\n",
      "0.10 0.605\n",
      "0.15 0.664\n",
      "0.20 0.705\n",
      "0.25 0.738\n",
      "0.30 0.759\n",
      "0.35 0.767\n",
      "0.40 0.781\n",
      "0.45 0.793\n",
      "0.50 0.806\n",
      "0.55 0.804\n",
      "0.60 0.800\n",
      "0.65 0.787\n",
      "0.70 0.766\n",
      "0.75 0.742\n",
      "0.80 0.729\n",
      "0.85 0.726\n",
      "0.90 0.726\n",
      "0.95 0.726\n",
      "1.00 0.726\n"
     ]
    }
   ],
   "source": [
    "thresholds = np.linspace(0, 1, 21)\n",
    "\n",
    "scores = []\n",
    "\n",
    "for t in thresholds:\n",
    "    score = accuracy_score(y_val, y_pred >= t)\n",
    "    print('%.2f %.3f' % (t, score))\n",
    "    scores.append(score)"
   ]
  },
  {
   "cell_type": "code",
   "execution_count": 1722,
   "id": "94e78d50-b4bc-4b97-b864-6df1d776f021",
   "metadata": {},
   "outputs": [
    {
     "data": {
      "text/plain": [
       "[<matplotlib.lines.Line2D at 0x7d2dd64a9b50>]"
      ]
     },
     "execution_count": 1722,
     "metadata": {},
     "output_type": "execute_result"
    },
    {
     "data": {
      "image/png": "[encoded data removed]",
      "text/plain": [
       "<Figure size 640x480 with 1 Axes>"
      ]
     },
     "metadata": {},
     "output_type": "display_data"
    }
   ],
   "source": [
    "plt.plot(thresholds, scores)"
   ]
  },
  {
   "cell_type": "code",
   "execution_count": 1723,
   "id": "49217016-97c4-48d0-bf90-c11ece6badca",
   "metadata": {},
   "outputs": [],
   "source": [
    "from collections import Counter"
   ]
  },
  {
   "cell_type": "code",
   "execution_count": 1724,
   "id": "af5b55c3-5e12-429d-acca-676646eafde4",
   "metadata": {},
   "outputs": [
    {
     "data": {
      "text/plain": [
       "Counter({np.False_: 1409})"
      ]
     },
     "execution_count": 1724,
     "metadata": {},
     "output_type": "execute_result"
    }
   ],
   "source": [
    "Counter(y_pred >= 1.0)"
   ]
  },
  {
   "cell_type": "code",
   "execution_count": 1725,
   "id": "e3e95566-bb06-4545-9bef-5ef42053f21d",
   "metadata": {},
   "outputs": [
    {
     "data": {
      "text/plain": [
       "Counter({np.int64(0): 1023, np.int64(1): 386})"
      ]
     },
     "execution_count": 1725,
     "metadata": {},
     "output_type": "execute_result"
    }
   ],
   "source": [
    "Counter(y_val)"
   ]
  },
  {
   "cell_type": "code",
   "execution_count": 1726,
   "id": "aed3cd81-be44-43b5-886c-4d9d0c9f700c",
   "metadata": {},
   "outputs": [
    {
     "data": {
      "text/plain": [
       "np.float64(0.7260468417317246)"
      ]
     },
     "execution_count": 1726,
     "metadata": {},
     "output_type": "execute_result"
    }
   ],
   "source": [
    "1 - y_val.mean()"
   ]
  },
  {
   "cell_type": "markdown",
   "id": "780d6be2-9342-4198-812b-f1b785f0d8d5",
   "metadata": {},
   "source": [
    "##### There is class imbalance"
   ]
  },
  {
   "cell_type": "code",
   "execution_count": null,
   "id": "111bad80-dd1f-4bf1-a0e9-5ae0e9a922f1",
   "metadata": {},
   "outputs": [],
   "source": []
  },
  {
   "cell_type": "markdown",
   "id": "bd59a816-7e7d-4e04-a2e1-562971edfe0c",
   "metadata": {},
   "source": [
    "### 3. Confusion table\n",
    "- Different types of errors and correct deciions\n",
    "- Arranging them in a table"
   ]
  },
  {
   "cell_type": "code",
   "execution_count": 1727,
   "id": "d0c22179-bae8-4d27-af57-73bc3d764c19",
   "metadata": {},
   "outputs": [],
   "source": [
    "actual_positive = (y_val == 1)\n",
    "actual_negative = (y_val == 0)"
   ]
  },
  {
   "cell_type": "code",
   "execution_count": 1728,
   "id": "8ac73de7-d052-4366-8fb3-75b1aade2eb7",
   "metadata": {},
   "outputs": [],
   "source": [
    "t= 0.5\n",
    "predict_positive = (y_pred >= t)\n",
    "predict_negative = (y_pred < t)"
   ]
  },
  {
   "cell_type": "code",
   "execution_count": 1729,
   "id": "8c44e1a9-a7e0-4051-904a-c3de4bdcd190",
   "metadata": {},
   "outputs": [
    {
     "data": {
      "text/plain": [
       "array([False, False, False,  True, False])"
      ]
     },
     "execution_count": 1729,
     "metadata": {},
     "output_type": "execute_result"
    }
   ],
   "source": [
    "predict_positive[:5]"
   ]
  },
  {
   "cell_type": "code",
   "execution_count": 1730,
   "id": "d1e5dc79-6ffa-40aa-a7e4-95613a1f07dd",
   "metadata": {},
   "outputs": [
    {
     "data": {
      "text/plain": [
       "array([False, False, False,  True, False])"
      ]
     },
     "execution_count": 1730,
     "metadata": {},
     "output_type": "execute_result"
    }
   ],
   "source": [
    "actual_positive[:5]"
   ]
  },
  {
   "cell_type": "code",
   "execution_count": 1731,
   "id": "3c298d68-f53b-46fd-8dbf-8c5dd66f05df",
   "metadata": {},
   "outputs": [],
   "source": [
    "tp = (predict_positive & actual_positive).sum()\n",
    "tn = (predict_negative & actual_negative).sum()"
   ]
  },
  {
   "cell_type": "code",
   "execution_count": 1732,
   "id": "bb971a98-3ac8-44d1-afa2-7579c38e783a",
   "metadata": {},
   "outputs": [
    {
     "data": {
      "text/plain": [
       "(np.int64(212), np.int64(923))"
      ]
     },
     "execution_count": 1732,
     "metadata": {},
     "output_type": "execute_result"
    }
   ],
   "source": [
    "tp, tn"
   ]
  },
  {
   "cell_type": "code",
   "execution_count": 1733,
   "id": "2ded9c89-9ecb-4208-94ac-4927c898e104",
   "metadata": {},
   "outputs": [],
   "source": [
    "fp = (predict_positive & actual_negative).sum()\n",
    "fn = (predict_negative & actual_positive).sum()"
   ]
  },
  {
   "cell_type": "code",
   "execution_count": 1734,
   "id": "ee4996a2-98bf-44a0-abaa-9bd116d7adf4",
   "metadata": {},
   "outputs": [
    {
     "data": {
      "text/plain": [
       "(np.int64(100), np.int64(174))"
      ]
     },
     "execution_count": 1734,
     "metadata": {},
     "output_type": "execute_result"
    }
   ],
   "source": [
    "fp, fn"
   ]
  },
  {
   "cell_type": "code",
   "execution_count": 1735,
   "id": "4753b88f-1cc3-4653-a1d3-e761c55567b5",
   "metadata": {},
   "outputs": [
    {
     "data": {
      "text/plain": [
       "array([[923, 100],\n",
       "       [174, 212]])"
      ]
     },
     "execution_count": 1735,
     "metadata": {},
     "output_type": "execute_result"
    }
   ],
   "source": [
    "confusion_matrix = np.array([\n",
    "    [tn, fp],\n",
    "    [fn, tp]]\n",
    ")\n",
    "confusion_matrix"
   ]
  },
  {
   "cell_type": "code",
   "execution_count": 1736,
   "id": "3af99db8-bbc2-432c-8d6a-1646a7c6a0b8",
   "metadata": {},
   "outputs": [
    {
     "data": {
      "text/plain": [
       "array([[0.66, 0.07],\n",
       "       [0.12, 0.15]])"
      ]
     },
     "execution_count": 1736,
     "metadata": {},
     "output_type": "execute_result"
    }
   ],
   "source": [
    "(confusion_matrix / confusion_matrix.sum()).round(2)"
   ]
  },
  {
   "cell_type": "code",
   "execution_count": null,
   "id": "78662c5c-e322-4b64-9398-9dbbb0f00cf2",
   "metadata": {},
   "outputs": [],
   "source": []
  },
  {
   "cell_type": "markdown",
   "id": "23e0501a-bd82-4688-81f2-231c1d7fb690",
   "metadata": {},
   "source": [
    "### 4. Precision and Recall"
   ]
  },
  {
   "cell_type": "code",
   "execution_count": 1737,
   "id": "0ec02317-2bd5-47d3-9878-8499fe1425a8",
   "metadata": {},
   "outputs": [
    {
     "data": {
      "text/plain": [
       "np.float64(0.8055358410220014)"
      ]
     },
     "execution_count": 1737,
     "metadata": {},
     "output_type": "execute_result"
    }
   ],
   "source": [
    "Accuracy = (tp + tn) / (tp + tn + fp + fn)\n",
    "Accuracy"
   ]
  },
  {
   "cell_type": "markdown",
   "id": "84cb2057-f21e-460b-83b9-71db2d2c23f7",
   "metadata": {},
   "source": [
    "##### Precision is the fraction of positive predictions (customers that are predicted to be churning) are correct"
   ]
  },
  {
   "cell_type": "code",
   "execution_count": 1738,
   "id": "5169a7ec-1b4e-4002-89c5-5c930af2864c",
   "metadata": {},
   "outputs": [
    {
     "data": {
      "text/plain": [
       "np.float64(0.6794871794871795)"
      ]
     },
     "execution_count": 1738,
     "metadata": {},
     "output_type": "execute_result"
    }
   ],
   "source": [
    "p = tp / (tp + fp)\n",
    "p"
   ]
  },
  {
   "cell_type": "code",
   "execution_count": null,
   "id": "90ac0918-e4b4-4f00-ae64-1eb074d6de9a",
   "metadata": {},
   "outputs": [],
   "source": []
  },
  {
   "cell_type": "markdown",
   "id": "0cd5fc18-1866-4a7f-b95f-f477b3c98ce1",
   "metadata": {},
   "source": [
    "##### Recall is the fraction of correctly identified positive predictions"
   ]
  },
  {
   "cell_type": "code",
   "execution_count": 1739,
   "id": "a65ecae7-c0e0-4f83-bf67-281e9504248a",
   "metadata": {},
   "outputs": [
    {
     "data": {
      "text/plain": [
       "np.float64(0.5492227979274611)"
      ]
     },
     "execution_count": 1739,
     "metadata": {},
     "output_type": "execute_result"
    }
   ],
   "source": [
    "r = tp / (tp + fn)\n",
    "r"
   ]
  },
  {
   "cell_type": "markdown",
   "id": "98c16c08-2af0-48e3-bdf9-88be6e298b88",
   "metadata": {},
   "source": [
    "#### In the case of class imbalance, the accuracy can be misleading, therefore precision and recall are the means of verifying the predictive performance of the model "
   ]
  },
  {
   "cell_type": "code",
   "execution_count": null,
   "id": "c4a22602-f626-4506-8a38-0ed45213d01f",
   "metadata": {},
   "outputs": [],
   "source": []
  },
  {
   "cell_type": "markdown",
   "id": "2f6f74e3-7fa8-4ac3-8192-0a2bd88783ed",
   "metadata": {},
   "source": [
    "### 5. ROC Curves [Receiver Operating Characteristics]\n",
    "True Positive Rate [TPR] and False Positive Rate [FPR]  \n",
    "The goal of using ROC curves is to maximize true positives rate and minimize false positives rate"
   ]
  },
  {
   "cell_type": "code",
   "execution_count": 1740,
   "id": "0f339019-cb60-448a-9ce6-aaa2916d6342",
   "metadata": {},
   "outputs": [
    {
     "data": {
      "text/plain": [
       "np.float64(0.5492227979274611)"
      ]
     },
     "execution_count": 1740,
     "metadata": {},
     "output_type": "execute_result"
    }
   ],
   "source": [
    "tpr = tp / (tp + fn)\n",
    "tpr                                     # the same as recall"
   ]
  },
  {
   "cell_type": "code",
   "execution_count": 1741,
   "id": "d7c970d8-242c-4d59-8077-d0854d6793a5",
   "metadata": {},
   "outputs": [
    {
     "data": {
      "text/plain": [
       "np.float64(0.09775171065493646)"
      ]
     },
     "execution_count": 1741,
     "metadata": {},
     "output_type": "execute_result"
    }
   ],
   "source": [
    "fpr = fp / (fp + tn)\n",
    "fpr"
   ]
  },
  {
   "cell_type": "code",
   "execution_count": 1742,
   "id": "acc8c6b7-ea14-4450-b56f-94e6b0184c58",
   "metadata": {},
   "outputs": [],
   "source": [
    "scores = []\n",
    "\n",
    "thresholds = np.linspace(0, 1, 101)\n",
    "\n",
    "for t in thresholds:\n",
    "    actual_positive = (y_val == 1)\n",
    "    actual_negative = (y_val == 0)\n",
    "    \n",
    "    predict_positive = (y_pred >= t)\n",
    "    predict_negative = (y_pred < t)\n",
    "    \n",
    "    tp = (predict_positive & actual_positive).sum()\n",
    "    tn = (predict_negative & actual_negative).sum()\n",
    "    \n",
    "    fp = (predict_positive & actual_negative).sum()\n",
    "    fn = (predict_negative & actual_positive).sum()\n",
    "\n",
    "    scores.append((t, tp, fp, fn, tn))"
   ]
  },
  {
   "cell_type": "code",
   "execution_count": 1743,
   "id": "04c95535-b49a-49a0-af49-464b478f571e",
   "metadata": {},
   "outputs": [],
   "source": [
    "columns = ['threshold', 'tp', 'fp', 'fn', 'tn']\n",
    "df_scores = pd.DataFrame(scores, columns=columns)"
   ]
  },
  {
   "cell_type": "code",
   "execution_count": 1744,
   "id": "51387489-e30b-42cb-b9ca-d0ff0e3d1b2c",
   "metadata": {},
   "outputs": [
    {
     "data": {
      "text/html": [
       "<div>\n",
       "<style scoped>\n",
       "    .dataframe tbody tr th:only-of-type {\n",
       "        vertical-align: middle;\n",
       "    }\n",
       "\n",
       "    .dataframe tbody tr th {\n",
       "        vertical-align: top;\n",
       "    }\n",
       "\n",
       "    .dataframe thead th {\n",
       "        text-align: right;\n",
       "    }\n",
       "</style>\n",
       "<table border=\"1\" class=\"dataframe\">\n",
       "  <thead>\n",
       "    <tr style=\"text-align: right;\">\n",
       "      <th></th>\n",
       "      <th>threshold</th>\n",
       "      <th>tp</th>\n",
       "      <th>fp</th>\n",
       "      <th>fn</th>\n",
       "      <th>tn</th>\n",
       "    </tr>\n",
       "  </thead>\n",
       "  <tbody>\n",
       "    <tr>\n",
       "      <th>0</th>\n",
       "      <td>0.0</td>\n",
       "      <td>386</td>\n",
       "      <td>1023</td>\n",
       "      <td>0</td>\n",
       "      <td>0</td>\n",
       "    </tr>\n",
       "    <tr>\n",
       "      <th>10</th>\n",
       "      <td>0.1</td>\n",
       "      <td>367</td>\n",
       "      <td>537</td>\n",
       "      <td>19</td>\n",
       "      <td>486</td>\n",
       "    </tr>\n",
       "    <tr>\n",
       "      <th>20</th>\n",
       "      <td>0.2</td>\n",
       "      <td>337</td>\n",
       "      <td>367</td>\n",
       "      <td>49</td>\n",
       "      <td>656</td>\n",
       "    </tr>\n",
       "    <tr>\n",
       "      <th>30</th>\n",
       "      <td>0.3</td>\n",
       "      <td>292</td>\n",
       "      <td>245</td>\n",
       "      <td>94</td>\n",
       "      <td>778</td>\n",
       "    </tr>\n",
       "    <tr>\n",
       "      <th>40</th>\n",
       "      <td>0.4</td>\n",
       "      <td>252</td>\n",
       "      <td>175</td>\n",
       "      <td>134</td>\n",
       "      <td>848</td>\n",
       "    </tr>\n",
       "    <tr>\n",
       "      <th>50</th>\n",
       "      <td>0.5</td>\n",
       "      <td>212</td>\n",
       "      <td>100</td>\n",
       "      <td>174</td>\n",
       "      <td>923</td>\n",
       "    </tr>\n",
       "    <tr>\n",
       "      <th>60</th>\n",
       "      <td>0.6</td>\n",
       "      <td>155</td>\n",
       "      <td>51</td>\n",
       "      <td>231</td>\n",
       "      <td>972</td>\n",
       "    </tr>\n",
       "    <tr>\n",
       "      <th>70</th>\n",
       "      <td>0.7</td>\n",
       "      <td>69</td>\n",
       "      <td>13</td>\n",
       "      <td>317</td>\n",
       "      <td>1010</td>\n",
       "    </tr>\n",
       "    <tr>\n",
       "      <th>80</th>\n",
       "      <td>0.8</td>\n",
       "      <td>4</td>\n",
       "      <td>0</td>\n",
       "      <td>382</td>\n",
       "      <td>1023</td>\n",
       "    </tr>\n",
       "    <tr>\n",
       "      <th>90</th>\n",
       "      <td>0.9</td>\n",
       "      <td>0</td>\n",
       "      <td>0</td>\n",
       "      <td>386</td>\n",
       "      <td>1023</td>\n",
       "    </tr>\n",
       "    <tr>\n",
       "      <th>100</th>\n",
       "      <td>1.0</td>\n",
       "      <td>0</td>\n",
       "      <td>0</td>\n",
       "      <td>386</td>\n",
       "      <td>1023</td>\n",
       "    </tr>\n",
       "  </tbody>\n",
       "</table>\n",
       "</div>"
      ],
      "text/plain": [
       "     threshold   tp    fp   fn    tn\n",
       "0          0.0  386  1023    0     0\n",
       "10         0.1  367   537   19   486\n",
       "20         0.2  337   367   49   656\n",
       "30         0.3  292   245   94   778\n",
       "40         0.4  252   175  134   848\n",
       "50         0.5  212   100  174   923\n",
       "60         0.6  155    51  231   972\n",
       "70         0.7   69    13  317  1010\n",
       "80         0.8    4     0  382  1023\n",
       "90         0.9    0     0  386  1023\n",
       "100        1.0    0     0  386  1023"
      ]
     },
     "execution_count": 1744,
     "metadata": {},
     "output_type": "execute_result"
    }
   ],
   "source": [
    "df_scores[::10]"
   ]
  },
  {
   "cell_type": "code",
   "execution_count": 1745,
   "id": "49259f33-c617-4e90-96f4-01391fd374bf",
   "metadata": {},
   "outputs": [],
   "source": [
    "df_scores['tpr'] = df_scores.tp / (df_scores.tp +  df_scores.fn)\n",
    "df_scores['fpr'] = df_scores.fp / (df_scores.fp + df_scores.tn)"
   ]
  },
  {
   "cell_type": "code",
   "execution_count": 1746,
   "id": "056aa2a8-6ca0-499c-b6dd-2a7102e933d8",
   "metadata": {},
   "outputs": [
    {
     "data": {
      "text/plain": [
       "<matplotlib.legend.Legend at 0x7d2dd6475be0>"
      ]
     },
     "execution_count": 1746,
     "metadata": {},
     "output_type": "execute_result"
    },
    {
     "data": {
      "image/png": "[encoded data removed]",
      "text/plain": [
       "<Figure size 640x480 with 1 Axes>"
      ]
     },
     "metadata": {},
     "output_type": "display_data"
    }
   ],
   "source": [
    "plt.plot(df_scores.threshold, df_scores['tpr'], label = \"TPR\")\n",
    "plt.plot(df_scores.threshold, df_scores['fpr'], label = \"FPR\")\n",
    "plt.legend()"
   ]
  },
  {
   "cell_type": "code",
   "execution_count": null,
   "id": "78ae675b-ddaa-4017-a9a1-9684f223dfe4",
   "metadata": {},
   "outputs": [],
   "source": []
  },
  {
   "cell_type": "markdown",
   "id": "cf45d0e4-4794-44c5-97fe-8d4b87e6f6b3",
   "metadata": {},
   "source": [
    "#### Random Model"
   ]
  },
  {
   "cell_type": "code",
   "execution_count": 1747,
   "id": "ce4447c6-5239-40f6-86a1-ba70074bceeb",
   "metadata": {},
   "outputs": [],
   "source": [
    "np.random.seed(1)\n",
    "y_rand = np.random.uniform(0, 1, size=len(y_val))"
   ]
  },
  {
   "cell_type": "code",
   "execution_count": 1748,
   "id": "7ba016f1-b733-411f-aa6c-9f8d77008cb2",
   "metadata": {},
   "outputs": [
    {
     "data": {
      "text/plain": [
       "np.float64(0.5017743080198722)"
      ]
     },
     "execution_count": 1748,
     "metadata": {},
     "output_type": "execute_result"
    }
   ],
   "source": [
    "((y_rand >= 0.5) == y_val).mean()"
   ]
  },
  {
   "cell_type": "code",
   "execution_count": 1749,
   "id": "2aaea3ac-acc8-4cc3-aa38-8bf3d6202151",
   "metadata": {},
   "outputs": [],
   "source": [
    "def tpr_fpr_dataframe(y_val, y_pred):\n",
    "    scores = []\n",
    "\n",
    "    thresholds = np.linspace(0, 1, 101)\n",
    "\n",
    "    for t in thresholds:\n",
    "        actual_positive = (y_val == 1)\n",
    "        actual_negative = (y_val == 0)\n",
    "        \n",
    "        predict_positive = (y_pred >= t)\n",
    "        predict_negative = (y_pred < t)\n",
    "        \n",
    "        tp = (predict_positive & actual_positive).sum()\n",
    "        tn = (predict_negative & actual_negative).sum()\n",
    "        \n",
    "        fp = (predict_positive & actual_negative).sum()\n",
    "        fn = (predict_negative & actual_positive).sum()\n",
    "    \n",
    "        scores.append((t, tp, fp, fn, tn))\n",
    "\n",
    "    columns = ['threshold', 'tp', 'fp', 'fn', 'tn']\n",
    "    df_scores = pd.DataFrame(scores, columns=columns)\n",
    "\n",
    "    df_scores['tpr'] = df_scores.tp / (df_scores.tp +  df_scores.fn)\n",
    "    df_scores['fpr'] = df_scores.fp / (df_scores.fp + df_scores.tn)\n",
    "\n",
    "    return  df_scores"
   ]
  },
  {
   "cell_type": "code",
   "execution_count": 1750,
   "id": "15338afe-ddb5-4241-aab0-c4534f3585b2",
   "metadata": {},
   "outputs": [],
   "source": [
    "df_rand = tpr_fpr_dataframe(y_val, y_rand)"
   ]
  },
  {
   "cell_type": "code",
   "execution_count": 1751,
   "id": "a18a62e2-b57f-49e2-b29b-84090e00967d",
   "metadata": {},
   "outputs": [
    {
     "data": {
      "text/html": [
       "<div>\n",
       "<style scoped>\n",
       "    .dataframe tbody tr th:only-of-type {\n",
       "        vertical-align: middle;\n",
       "    }\n",
       "\n",
       "    .dataframe tbody tr th {\n",
       "        vertical-align: top;\n",
       "    }\n",
       "\n",
       "    .dataframe thead th {\n",
       "        text-align: right;\n",
       "    }\n",
       "</style>\n",
       "<table border=\"1\" class=\"dataframe\">\n",
       "  <thead>\n",
       "    <tr style=\"text-align: right;\">\n",
       "      <th></th>\n",
       "      <th>threshold</th>\n",
       "      <th>tp</th>\n",
       "      <th>fp</th>\n",
       "      <th>fn</th>\n",
       "      <th>tn</th>\n",
       "      <th>tpr</th>\n",
       "      <th>fpr</th>\n",
       "    </tr>\n",
       "  </thead>\n",
       "  <tbody>\n",
       "    <tr>\n",
       "      <th>0</th>\n",
       "      <td>0.0</td>\n",
       "      <td>386</td>\n",
       "      <td>1023</td>\n",
       "      <td>0</td>\n",
       "      <td>0</td>\n",
       "      <td>1.000000</td>\n",
       "      <td>1.000000</td>\n",
       "    </tr>\n",
       "    <tr>\n",
       "      <th>10</th>\n",
       "      <td>0.1</td>\n",
       "      <td>347</td>\n",
       "      <td>923</td>\n",
       "      <td>39</td>\n",
       "      <td>100</td>\n",
       "      <td>0.898964</td>\n",
       "      <td>0.902248</td>\n",
       "    </tr>\n",
       "    <tr>\n",
       "      <th>20</th>\n",
       "      <td>0.2</td>\n",
       "      <td>307</td>\n",
       "      <td>822</td>\n",
       "      <td>79</td>\n",
       "      <td>201</td>\n",
       "      <td>0.795337</td>\n",
       "      <td>0.803519</td>\n",
       "    </tr>\n",
       "    <tr>\n",
       "      <th>30</th>\n",
       "      <td>0.3</td>\n",
       "      <td>276</td>\n",
       "      <td>724</td>\n",
       "      <td>110</td>\n",
       "      <td>299</td>\n",
       "      <td>0.715026</td>\n",
       "      <td>0.707722</td>\n",
       "    </tr>\n",
       "    <tr>\n",
       "      <th>40</th>\n",
       "      <td>0.4</td>\n",
       "      <td>237</td>\n",
       "      <td>624</td>\n",
       "      <td>149</td>\n",
       "      <td>399</td>\n",
       "      <td>0.613990</td>\n",
       "      <td>0.609971</td>\n",
       "    </tr>\n",
       "    <tr>\n",
       "      <th>50</th>\n",
       "      <td>0.5</td>\n",
       "      <td>202</td>\n",
       "      <td>518</td>\n",
       "      <td>184</td>\n",
       "      <td>505</td>\n",
       "      <td>0.523316</td>\n",
       "      <td>0.506354</td>\n",
       "    </tr>\n",
       "    <tr>\n",
       "      <th>60</th>\n",
       "      <td>0.6</td>\n",
       "      <td>161</td>\n",
       "      <td>409</td>\n",
       "      <td>225</td>\n",
       "      <td>614</td>\n",
       "      <td>0.417098</td>\n",
       "      <td>0.399804</td>\n",
       "    </tr>\n",
       "    <tr>\n",
       "      <th>70</th>\n",
       "      <td>0.7</td>\n",
       "      <td>121</td>\n",
       "      <td>302</td>\n",
       "      <td>265</td>\n",
       "      <td>721</td>\n",
       "      <td>0.313472</td>\n",
       "      <td>0.295210</td>\n",
       "    </tr>\n",
       "    <tr>\n",
       "      <th>80</th>\n",
       "      <td>0.8</td>\n",
       "      <td>78</td>\n",
       "      <td>206</td>\n",
       "      <td>308</td>\n",
       "      <td>817</td>\n",
       "      <td>0.202073</td>\n",
       "      <td>0.201369</td>\n",
       "    </tr>\n",
       "    <tr>\n",
       "      <th>90</th>\n",
       "      <td>0.9</td>\n",
       "      <td>40</td>\n",
       "      <td>101</td>\n",
       "      <td>346</td>\n",
       "      <td>922</td>\n",
       "      <td>0.103627</td>\n",
       "      <td>0.098729</td>\n",
       "    </tr>\n",
       "    <tr>\n",
       "      <th>100</th>\n",
       "      <td>1.0</td>\n",
       "      <td>0</td>\n",
       "      <td>0</td>\n",
       "      <td>386</td>\n",
       "      <td>1023</td>\n",
       "      <td>0.000000</td>\n",
       "      <td>0.000000</td>\n",
       "    </tr>\n",
       "  </tbody>\n",
       "</table>\n",
       "</div>"
      ],
      "text/plain": [
       "     threshold   tp    fp   fn    tn       tpr       fpr\n",
       "0          0.0  386  1023    0     0  1.000000  1.000000\n",
       "10         0.1  347   923   39   100  0.898964  0.902248\n",
       "20         0.2  307   822   79   201  0.795337  0.803519\n",
       "30         0.3  276   724  110   299  0.715026  0.707722\n",
       "40         0.4  237   624  149   399  0.613990  0.609971\n",
       "50         0.5  202   518  184   505  0.523316  0.506354\n",
       "60         0.6  161   409  225   614  0.417098  0.399804\n",
       "70         0.7  121   302  265   721  0.313472  0.295210\n",
       "80         0.8   78   206  308   817  0.202073  0.201369\n",
       "90         0.9   40   101  346   922  0.103627  0.098729\n",
       "100        1.0    0     0  386  1023  0.000000  0.000000"
      ]
     },
     "execution_count": 1751,
     "metadata": {},
     "output_type": "execute_result"
    }
   ],
   "source": [
    "df_rand[::10]"
   ]
  },
  {
   "cell_type": "code",
   "execution_count": 1752,
   "id": "6b776aa7-a262-4ce8-a2a9-2a42781cbd83",
   "metadata": {},
   "outputs": [
    {
     "data": {
      "text/plain": [
       "<matplotlib.legend.Legend at 0x7d2dd650b350>"
      ]
     },
     "execution_count": 1752,
     "metadata": {},
     "output_type": "execute_result"
    },
    {
     "data": {
      "image/png": "[encoded data removed]",
      "text/plain": [
       "<Figure size 640x480 with 1 Axes>"
      ]
     },
     "metadata": {},
     "output_type": "display_data"
    }
   ],
   "source": [
    "plt.plot(df_rand.threshold, df_rand['tpr'], label = \"TPR\")\n",
    "plt.plot(df_rand.threshold, df_rand['fpr'], label = \"FPR\")\n",
    "plt.legend()"
   ]
  },
  {
   "cell_type": "markdown",
   "id": "4a4114d6-3b40-490b-bd1c-1b3a154a6c89",
   "metadata": {},
   "source": [
    "#### Ideal model"
   ]
  },
  {
   "cell_type": "code",
   "execution_count": 1753,
   "id": "372fefcb-f881-45d0-96e7-f035067fef08",
   "metadata": {},
   "outputs": [
    {
     "data": {
      "text/plain": [
       "(np.int64(1023), np.int64(386))"
      ]
     },
     "execution_count": 1753,
     "metadata": {},
     "output_type": "execute_result"
    }
   ],
   "source": [
    "num_neg = (y_val == 0).sum()\n",
    "num_pos = (y_val == 1).sum()\n",
    "num_neg, num_pos"
   ]
  },
  {
   "cell_type": "code",
   "execution_count": 1754,
   "id": "c936c836-fce6-4192-9def-9d9f83a3e73e",
   "metadata": {},
   "outputs": [],
   "source": [
    "y_ideal = np.repeat([0, 1], [num_neg, num_pos])"
   ]
  },
  {
   "cell_type": "code",
   "execution_count": 1755,
   "id": "79e5a59e-71d1-4ab3-8165-969afe5be9ec",
   "metadata": {},
   "outputs": [],
   "source": [
    "y_ideal_pred = np.linspace(0, 1, len(y_val))"
   ]
  },
  {
   "cell_type": "code",
   "execution_count": 1756,
   "id": "f4650ec8-0c80-495c-b11b-76b71cc30911",
   "metadata": {},
   "outputs": [
    {
     "data": {
      "text/plain": [
       "np.float64(0.7260468417317246)"
      ]
     },
     "execution_count": 1756,
     "metadata": {},
     "output_type": "execute_result"
    }
   ],
   "source": [
    "1 - y_val.mean()"
   ]
  },
  {
   "cell_type": "code",
   "execution_count": 1757,
   "id": "c6cfcb77-b207-42ac-b1c9-f55a94d54df3",
   "metadata": {},
   "outputs": [
    {
     "data": {
      "text/plain": [
       "np.float64(1.0)"
      ]
     },
     "execution_count": 1757,
     "metadata": {},
     "output_type": "execute_result"
    }
   ],
   "source": [
    "((y_ideal_pred >= 0.726) == y_ideal).mean()"
   ]
  },
  {
   "cell_type": "code",
   "execution_count": 1758,
   "id": "130bf95b-4ae3-43e7-850a-3222096c412f",
   "metadata": {},
   "outputs": [],
   "source": [
    "df_ideal = tpr_fpr_dataframe(y_ideal, y_ideal_pred)"
   ]
  },
  {
   "cell_type": "code",
   "execution_count": 1759,
   "id": "045d0fde-0ce4-406b-a341-2a4a7f671796",
   "metadata": {},
   "outputs": [
    {
     "data": {
      "text/html": [
       "<div>\n",
       "<style scoped>\n",
       "    .dataframe tbody tr th:only-of-type {\n",
       "        vertical-align: middle;\n",
       "    }\n",
       "\n",
       "    .dataframe tbody tr th {\n",
       "        vertical-align: top;\n",
       "    }\n",
       "\n",
       "    .dataframe thead th {\n",
       "        text-align: right;\n",
       "    }\n",
       "</style>\n",
       "<table border=\"1\" class=\"dataframe\">\n",
       "  <thead>\n",
       "    <tr style=\"text-align: right;\">\n",
       "      <th></th>\n",
       "      <th>threshold</th>\n",
       "      <th>tp</th>\n",
       "      <th>fp</th>\n",
       "      <th>fn</th>\n",
       "      <th>tn</th>\n",
       "      <th>tpr</th>\n",
       "      <th>fpr</th>\n",
       "    </tr>\n",
       "  </thead>\n",
       "  <tbody>\n",
       "    <tr>\n",
       "      <th>0</th>\n",
       "      <td>0.0</td>\n",
       "      <td>386</td>\n",
       "      <td>1023</td>\n",
       "      <td>0</td>\n",
       "      <td>0</td>\n",
       "      <td>1.000000</td>\n",
       "      <td>1.000000</td>\n",
       "    </tr>\n",
       "    <tr>\n",
       "      <th>10</th>\n",
       "      <td>0.1</td>\n",
       "      <td>386</td>\n",
       "      <td>882</td>\n",
       "      <td>0</td>\n",
       "      <td>141</td>\n",
       "      <td>1.000000</td>\n",
       "      <td>0.862170</td>\n",
       "    </tr>\n",
       "    <tr>\n",
       "      <th>20</th>\n",
       "      <td>0.2</td>\n",
       "      <td>386</td>\n",
       "      <td>741</td>\n",
       "      <td>0</td>\n",
       "      <td>282</td>\n",
       "      <td>1.000000</td>\n",
       "      <td>0.724340</td>\n",
       "    </tr>\n",
       "    <tr>\n",
       "      <th>30</th>\n",
       "      <td>0.3</td>\n",
       "      <td>386</td>\n",
       "      <td>600</td>\n",
       "      <td>0</td>\n",
       "      <td>423</td>\n",
       "      <td>1.000000</td>\n",
       "      <td>0.586510</td>\n",
       "    </tr>\n",
       "    <tr>\n",
       "      <th>40</th>\n",
       "      <td>0.4</td>\n",
       "      <td>386</td>\n",
       "      <td>459</td>\n",
       "      <td>0</td>\n",
       "      <td>564</td>\n",
       "      <td>1.000000</td>\n",
       "      <td>0.448680</td>\n",
       "    </tr>\n",
       "    <tr>\n",
       "      <th>50</th>\n",
       "      <td>0.5</td>\n",
       "      <td>386</td>\n",
       "      <td>319</td>\n",
       "      <td>0</td>\n",
       "      <td>704</td>\n",
       "      <td>1.000000</td>\n",
       "      <td>0.311828</td>\n",
       "    </tr>\n",
       "    <tr>\n",
       "      <th>60</th>\n",
       "      <td>0.6</td>\n",
       "      <td>386</td>\n",
       "      <td>178</td>\n",
       "      <td>0</td>\n",
       "      <td>845</td>\n",
       "      <td>1.000000</td>\n",
       "      <td>0.173998</td>\n",
       "    </tr>\n",
       "    <tr>\n",
       "      <th>70</th>\n",
       "      <td>0.7</td>\n",
       "      <td>386</td>\n",
       "      <td>37</td>\n",
       "      <td>0</td>\n",
       "      <td>986</td>\n",
       "      <td>1.000000</td>\n",
       "      <td>0.036168</td>\n",
       "    </tr>\n",
       "    <tr>\n",
       "      <th>80</th>\n",
       "      <td>0.8</td>\n",
       "      <td>282</td>\n",
       "      <td>0</td>\n",
       "      <td>104</td>\n",
       "      <td>1023</td>\n",
       "      <td>0.730570</td>\n",
       "      <td>0.000000</td>\n",
       "    </tr>\n",
       "    <tr>\n",
       "      <th>90</th>\n",
       "      <td>0.9</td>\n",
       "      <td>141</td>\n",
       "      <td>0</td>\n",
       "      <td>245</td>\n",
       "      <td>1023</td>\n",
       "      <td>0.365285</td>\n",
       "      <td>0.000000</td>\n",
       "    </tr>\n",
       "    <tr>\n",
       "      <th>100</th>\n",
       "      <td>1.0</td>\n",
       "      <td>1</td>\n",
       "      <td>0</td>\n",
       "      <td>385</td>\n",
       "      <td>1023</td>\n",
       "      <td>0.002591</td>\n",
       "      <td>0.000000</td>\n",
       "    </tr>\n",
       "  </tbody>\n",
       "</table>\n",
       "</div>"
      ],
      "text/plain": [
       "     threshold   tp    fp   fn    tn       tpr       fpr\n",
       "0          0.0  386  1023    0     0  1.000000  1.000000\n",
       "10         0.1  386   882    0   141  1.000000  0.862170\n",
       "20         0.2  386   741    0   282  1.000000  0.724340\n",
       "30         0.3  386   600    0   423  1.000000  0.586510\n",
       "40         0.4  386   459    0   564  1.000000  0.448680\n",
       "50         0.5  386   319    0   704  1.000000  0.311828\n",
       "60         0.6  386   178    0   845  1.000000  0.173998\n",
       "70         0.7  386    37    0   986  1.000000  0.036168\n",
       "80         0.8  282     0  104  1023  0.730570  0.000000\n",
       "90         0.9  141     0  245  1023  0.365285  0.000000\n",
       "100        1.0    1     0  385  1023  0.002591  0.000000"
      ]
     },
     "execution_count": 1759,
     "metadata": {},
     "output_type": "execute_result"
    }
   ],
   "source": [
    "df_ideal[::10]"
   ]
  },
  {
   "cell_type": "code",
   "execution_count": 1760,
   "id": "b260ca65-d1e6-4a57-b621-632b06268509",
   "metadata": {},
   "outputs": [
    {
     "data": {
      "text/plain": [
       "<matplotlib.legend.Legend at 0x7d2dd5caacf0>"
      ]
     },
     "execution_count": 1760,
     "metadata": {},
     "output_type": "execute_result"
    },
    {
     "data": {
      "image/png": "[encoded data removed]",
      "text/plain": [
       "<Figure size 640x480 with 1 Axes>"
      ]
     },
     "metadata": {},
     "output_type": "display_data"
    }
   ],
   "source": [
    "plt.plot(df_ideal.threshold, df_ideal['tpr'], label = \"TPR\")\n",
    "plt.plot(df_ideal.threshold, df_ideal['fpr'], label = \"FPR\")\n",
    "plt.legend()"
   ]
  },
  {
   "cell_type": "code",
   "execution_count": null,
   "id": "666f89b0-994c-4eb2-b140-7e7182d58575",
   "metadata": {},
   "outputs": [],
   "source": []
  },
  {
   "cell_type": "markdown",
   "id": "4325f6c8-3110-45f0-a478-207b91b379d2",
   "metadata": {},
   "source": [
    "### Putting everything together"
   ]
  },
  {
   "cell_type": "code",
   "execution_count": 1761,
   "id": "335bd544-61a2-4916-9dbf-6fc853644b9f",
   "metadata": {},
   "outputs": [
    {
     "data": {
      "text/plain": [
       "<matplotlib.legend.Legend at 0x7d2dd644c950>"
      ]
     },
     "execution_count": 1761,
     "metadata": {},
     "output_type": "execute_result"
    },
    {
     "data": {
      "image/png": "[encoded data removed]",
      "text/plain": [
       "<Figure size 640x480 with 1 Axes>"
      ]
     },
     "metadata": {},
     "output_type": "display_data"
    }
   ],
   "source": [
    "plt.plot(df_scores.threshold, df_scores['tpr'], label = \"TPR\")\n",
    "plt.plot(df_scores.threshold, df_scores['fpr'], label = \"FPR\")\n",
    "\n",
    "plt.plot(df_rand.threshold, df_rand['tpr'], label = \"TPR\")\n",
    "plt.plot(df_rand.threshold, df_rand['fpr'], label = \"FPR\")\n",
    "\n",
    "plt.plot(df_ideal.threshold, df_ideal['tpr'], label = \"TPR\", color='black')\n",
    "plt.plot(df_ideal.threshold, df_ideal['fpr'], label = \"FPR\", color='black')\n",
    "\n",
    "plt.legend()"
   ]
  },
  {
   "cell_type": "code",
   "execution_count": 1762,
   "id": "94e12018-ad91-4676-b460-f75a4c72384b",
   "metadata": {},
   "outputs": [
    {
     "data": {
      "text/plain": [
       "<matplotlib.legend.Legend at 0x7d2dd5991280>"
      ]
     },
     "execution_count": 1762,
     "metadata": {},
     "output_type": "execute_result"
    },
    {
     "data": {
      "image/png": "[encoded data removed]",
      "text/plain": [
       "<Figure size 500x500 with 1 Axes>"
      ]
     },
     "metadata": {},
     "output_type": "display_data"
    }
   ],
   "source": [
    "plt.figure(figsize=(5, 5))\n",
    "\n",
    "plt.plot(df_scores.fpr, df_scores.tpr, label='model')\n",
    "plt.plot([0, 1], [0, 1], label='random')\n",
    "#plt.plot(df_rand.fpr, df_rand.tpr, label='random')\n",
    "#plt.plot(df_ideal.fpr, df_ideal.tpr, label='ideal')\n",
    "\n",
    "plt.xlabel('FPR')\n",
    "plt.ylabel('TPR')\n",
    "\n",
    "plt.legend()"
   ]
  },
  {
   "cell_type": "markdown",
   "id": "c2688d91-b2a5-476d-8738-33b9cf75ff61",
   "metadata": {},
   "source": [
    "##### Plotting ROC curve with Scikit-Learn"
   ]
  },
  {
   "cell_type": "code",
   "execution_count": 1763,
   "id": "d99a5377-a644-4088-b5ea-f17c7cd036eb",
   "metadata": {},
   "outputs": [],
   "source": [
    "from sklearn.metrics import roc_curve"
   ]
  },
  {
   "cell_type": "code",
   "execution_count": 1764,
   "id": "b6c3a488-1cab-4f5d-8248-a985de819616",
   "metadata": {},
   "outputs": [],
   "source": [
    "fpr, tpr, thresholds = roc_curve(y_val, y_pred)"
   ]
  },
  {
   "cell_type": "code",
   "execution_count": 1765,
   "id": "e46a2f45-a60a-4437-b9ff-ad62b8dcc60b",
   "metadata": {},
   "outputs": [
    {
     "data": {
      "text/plain": [
       "<matplotlib.legend.Legend at 0x7d2dd5e75e80>"
      ]
     },
     "execution_count": 1765,
     "metadata": {},
     "output_type": "execute_result"
    },
    {
     "data": {
      "image/png": "[encoded data removed]",
      "text/plain": [
       "<Figure size 500x500 with 1 Axes>"
      ]
     },
     "metadata": {},
     "output_type": "display_data"
    }
   ],
   "source": [
    "plt.figure(figsize=(5, 5))\n",
    "\n",
    "plt.plot(fpr, tpr, label='Model')\n",
    "plt.plot([0, 1], [0, 1], label='Random', linestyle='--')\n",
    "\n",
    "plt.xlabel('FPR')\n",
    "plt.ylabel('TPR')\n",
    "\n",
    "plt.legend()"
   ]
  },
  {
   "cell_type": "markdown",
   "id": "77a54cfe-bf21-4cd5-a262-df0770f07d01",
   "metadata": {},
   "source": [
    "### 6. ROC AUC\n",
    "- Area under the ROC curve - useful metric\n",
    "- Interpretation of AUC"
   ]
  },
  {
   "cell_type": "code",
   "execution_count": 1766,
   "id": "9adc328d-2088-43a0-afd0-b299da71d2fa",
   "metadata": {},
   "outputs": [],
   "source": [
    "from sklearn.metrics import auc"
   ]
  },
  {
   "cell_type": "code",
   "execution_count": 1767,
   "id": "8f92e885-21a2-4b07-ab3a-9cdb5a5d929e",
   "metadata": {},
   "outputs": [
    {
     "data": {
      "text/plain": [
       "np.float64(0.8465981898206534)"
      ]
     },
     "execution_count": 1767,
     "metadata": {},
     "output_type": "execute_result"
    }
   ],
   "source": [
    "auc(fpr, tpr)"
   ]
  },
  {
   "cell_type": "code",
   "execution_count": 1768,
   "id": "02a0f0ab-29b6-4475-a134-63ad7893960c",
   "metadata": {},
   "outputs": [
    {
     "data": {
      "text/plain": [
       "np.float64(0.8463208889834327)"
      ]
     },
     "execution_count": 1768,
     "metadata": {},
     "output_type": "execute_result"
    }
   ],
   "source": [
    "auc(df_scores.fpr, df_scores.tpr)"
   ]
  },
  {
   "cell_type": "code",
   "execution_count": 1769,
   "id": "cabc506e-9f35-48ac-9433-a5248a253668",
   "metadata": {},
   "outputs": [
    {
     "data": {
      "text/plain": [
       "np.float64(0.9999430203759136)"
      ]
     },
     "execution_count": 1769,
     "metadata": {},
     "output_type": "execute_result"
    }
   ],
   "source": [
    "auc(df_ideal.fpr, df_ideal.tpr)"
   ]
  },
  {
   "cell_type": "code",
   "execution_count": 1770,
   "id": "927233f2-34fa-44c3-9ef4-dba6835440c6",
   "metadata": {},
   "outputs": [
    {
     "data": {
      "text/plain": [
       "np.float64(0.8465981898206534)"
      ]
     },
     "execution_count": 1770,
     "metadata": {},
     "output_type": "execute_result"
    }
   ],
   "source": [
    "fpr, tpr, thresholds = roc_curve(y_val, y_pred)\n",
    "auc(fpr, tpr)"
   ]
  },
  {
   "cell_type": "code",
   "execution_count": 1771,
   "id": "1743e574-87d1-4eef-9a13-7bc4a217cef1",
   "metadata": {},
   "outputs": [],
   "source": [
    "from sklearn.metrics import roc_auc_score"
   ]
  },
  {
   "cell_type": "code",
   "execution_count": 1772,
   "id": "77cde5c4-671d-4b22-8fb3-899a3da0a09b",
   "metadata": {},
   "outputs": [
    {
     "data": {
      "text/plain": [
       "np.float64(0.8465981898206534)"
      ]
     },
     "execution_count": 1772,
     "metadata": {},
     "output_type": "execute_result"
    }
   ],
   "source": [
    "roc_auc_score(y_val, y_pred)"
   ]
  },
  {
   "cell_type": "code",
   "execution_count": 1773,
   "id": "c9c75781-6913-465f-b9b9-855c19fafb66",
   "metadata": {},
   "outputs": [],
   "source": [
    "neg = y_pred[y_val == 0]\n",
    "pos = y_pred[y_val == 1]"
   ]
  },
  {
   "cell_type": "code",
   "execution_count": 1774,
   "id": "e3f0ac5a-f17f-4e01-8ae4-292e1f4f3c5f",
   "metadata": {},
   "outputs": [],
   "source": [
    "import random"
   ]
  },
  {
   "cell_type": "code",
   "execution_count": 1775,
   "id": "e95541f9-aa88-4bab-ab60-d460203e9c12",
   "metadata": {},
   "outputs": [
    {
     "data": {
      "text/plain": [
       "0.84769"
      ]
     },
     "execution_count": 1775,
     "metadata": {},
     "output_type": "execute_result"
    }
   ],
   "source": [
    "n = 100000\n",
    "success = 0\n",
    "\n",
    "for i in range(n):\n",
    "    pos_ind = random.randint(0, len(pos) - 1)\n",
    "    neg_ind = random.randint(0, len(neg) - 1)\n",
    "\n",
    "    if pos[pos_ind] > neg[neg_ind]:\n",
    "        success = success + 1\n",
    "\n",
    "success / n"
   ]
  },
  {
   "cell_type": "code",
   "execution_count": 1776,
   "id": "8c16e384-3412-479d-baa4-0fa9ee2c424a",
   "metadata": {},
   "outputs": [
    {
     "data": {
      "text/plain": [
       "np.float64(0.84796)"
      ]
     },
     "execution_count": 1776,
     "metadata": {},
     "output_type": "execute_result"
    }
   ],
   "source": [
    "n = 50000\n",
    "pos_ind = np.random.randint(0, len(pos), size=n)\n",
    "neg_ind = np.random.randint(0, len(neg), size=n)\n",
    "\n",
    "(pos[pos_ind] > neg[neg_ind]).mean()"
   ]
  },
  {
   "cell_type": "markdown",
   "id": "5f834286-a258-45ce-a825-f839d592b6ab",
   "metadata": {},
   "source": [
    "##### AUC is popular as a way of measuring the performance of binary classification models"
   ]
  },
  {
   "cell_type": "code",
   "execution_count": null,
   "id": "5cd6ac8a-dd5f-4de8-abdd-8b6a7828d480",
   "metadata": {},
   "outputs": [],
   "source": []
  },
  {
   "cell_type": "markdown",
   "id": "09be739a-9c28-46e3-976f-aa4c2ee365f4",
   "metadata": {},
   "source": [
    "### 7. Cross-Validation\n",
    "- Evaluating the same model on different subsets of data\n",
    "- Getting the average prediction and the spread within predictions"
   ]
  },
  {
   "cell_type": "code",
   "execution_count": 1777,
   "id": "01ac186f-0671-4d21-8d79-ecd6c007a643",
   "metadata": {},
   "outputs": [],
   "source": [
    "def train(df_train, y_train, C=1.0):\n",
    "    dicts = df_train[categorical + numerical].to_dict(orient='records')\n",
    "    \n",
    "    dv = DictVectorizer(sparse=False)\n",
    "    X_train = dv.fit_transform(dicts)\n",
    "    \n",
    "    model = LogisticRegression(C=C, solver='liblinear', random_state=1, max_iter=1000)\n",
    "    model.fit(X_train, y_train)\n",
    "\n",
    "    return dv, model"
   ]
  },
  {
   "cell_type": "code",
   "execution_count": 1778,
   "id": "32db0eab-500d-4a57-b18f-aa9cea3f5f1a",
   "metadata": {},
   "outputs": [],
   "source": [
    "dv, model = train(df_train, y_train, C=0.001)"
   ]
  },
  {
   "cell_type": "code",
   "execution_count": 1779,
   "id": "8eacd1ea-fb5a-497c-af1f-da2cd3d057f5",
   "metadata": {},
   "outputs": [],
   "source": [
    "def predict(df, dv, model):\n",
    "    dicts = df[categorical + numerical].to_dict(orient='records')\n",
    "\n",
    "    X = dv.transform(dicts)\n",
    "    y_pred = model.predict_proba(X)[:, 1]\n",
    "\n",
    "    return y_pred"
   ]
  },
  {
   "cell_type": "code",
   "execution_count": 1780,
   "id": "58738a01-a192-445e-a0e5-d812dcd4d7f6",
   "metadata": {},
   "outputs": [],
   "source": [
    "y_pred = predict(df_val, dv, model)"
   ]
  },
  {
   "cell_type": "code",
   "execution_count": 1781,
   "id": "407bbd70-3c02-4db8-8c5a-adf323fe3d15",
   "metadata": {},
   "outputs": [],
   "source": [
    "from sklearn.model_selection import KFold"
   ]
  },
  {
   "cell_type": "code",
   "execution_count": 1782,
   "id": "8c6ab6ac-0f3a-488d-91d8-97432346d38e",
   "metadata": {},
   "outputs": [],
   "source": [
    "kfold = KFold(n_splits=10, shuffle=True, random_state=1)"
   ]
  },
  {
   "cell_type": "code",
   "execution_count": 1783,
   "id": "4df3a2c5-7d2a-40b1-aaf7-eac25be5e306",
   "metadata": {},
   "outputs": [],
   "source": [
    "from tqdm.auto import tqdm"
   ]
  },
  {
   "cell_type": "code",
   "execution_count": 1784,
   "id": "852f943a-44f1-4c12-ab6e-5e00e7c8692a",
   "metadata": {},
   "outputs": [
    {
     "name": "stderr",
     "output_type": "stream",
     "text": [
      "  0%|                                                                                                      | 0/7 [00:00<?, ?it/s]\n",
      "  0%|                                                                                                      | 0/5 [00:00<?, ?it/s]\u001b[A\n",
      " 20%|██████████████████▊                                                                           | 1/5 [00:00<00:00,  7.01it/s]\u001b[A\n",
      " 40%|█████████████████████████████████████▌                                                        | 2/5 [00:00<00:00,  6.73it/s]\u001b[A\n",
      " 60%|████████████████████████████████████████████████████████▍                                     | 3/5 [00:00<00:00,  6.87it/s]\u001b[A\n",
      " 80%|███████████████████████████████████████████████████████████████████████████▏                  | 4/5 [00:00<00:00,  6.88it/s]\u001b[A\n",
      "100%|██████████████████████████████████████████████████████████████████████████████████████████████| 5/5 [00:00<00:00,  6.83it/s]\u001b[A\n",
      "6it [00:00,  6.69it/s]                                                                                                           \u001b[A\n",
      "7it [00:01,  6.68it/s]\u001b[A\n",
      "8it [00:01,  6.24it/s]\u001b[A\n",
      "9it [00:01,  6.50it/s]\u001b[A\n",
      "10it [00:01,  6.59it/s]\u001b[A\n",
      " 14%|█████████████▍                                                                                | 1/7 [00:01<00:09,  1.52s/it]"
     ]
    },
    {
     "name": "stdout",
     "output_type": "stream",
     "text": [
      "C=0.001 0.826 +- 0.016\n"
     ]
    },
    {
     "name": "stderr",
     "output_type": "stream",
     "text": [
      "\n",
      "  0%|                                                                                                      | 0/5 [00:00<?, ?it/s]\u001b[A\n",
      " 20%|██████████████████▊                                                                           | 1/5 [00:00<00:00,  5.48it/s]\u001b[A\n",
      " 40%|█████████████████████████████████████▌                                                        | 2/5 [00:00<00:00,  6.26it/s]\u001b[A\n",
      " 60%|████████████████████████████████████████████████████████▍                                     | 3/5 [00:00<00:00,  5.09it/s]\u001b[A\n",
      " 80%|███████████████████████████████████████████████████████████████████████████▏                  | 4/5 [00:00<00:00,  5.61it/s]\u001b[A\n",
      "100%|██████████████████████████████████████████████████████████████████████████████████████████████| 5/5 [00:00<00:00,  6.09it/s]\u001b[A\n",
      "6it [00:00,  6.45it/s]                                                                                                           \u001b[A\n",
      "7it [00:01,  6.66it/s]\u001b[A\n",
      "8it [00:01,  6.82it/s]\u001b[A\n",
      "9it [00:01,  6.92it/s]\u001b[A\n",
      "10it [00:01,  6.42it/s]\u001b[A\n",
      " 29%|██████████████████████████▊                                                                   | 2/7 [00:03<00:07,  1.55s/it]"
     ]
    },
    {
     "name": "stdout",
     "output_type": "stream",
     "text": [
      "C=0.01 0.840 +- 0.012\n"
     ]
    },
    {
     "name": "stderr",
     "output_type": "stream",
     "text": [
      "\n",
      "  0%|                                                                                                      | 0/5 [00:00<?, ?it/s]\u001b[A\n",
      " 20%|██████████████████▊                                                                           | 1/5 [00:00<00:00,  6.40it/s]\u001b[A\n",
      " 40%|█████████████████████████████████████▌                                                        | 2/5 [00:00<00:00,  6.74it/s]\u001b[A\n",
      " 60%|████████████████████████████████████████████████████████▍                                     | 3/5 [00:00<00:00,  6.89it/s]\u001b[A\n",
      " 80%|███████████████████████████████████████████████████████████████████████████▏                  | 4/5 [00:00<00:00,  6.89it/s]\u001b[A\n",
      "100%|██████████████████████████████████████████████████████████████████████████████████████████████| 5/5 [00:00<00:00,  6.89it/s]\u001b[A\n",
      "6it [00:00,  6.72it/s]                                                                                                           \u001b[A\n",
      "7it [00:01,  6.46it/s]\u001b[A\n",
      "8it [00:01,  6.41it/s]\u001b[A\n",
      "9it [00:01,  6.46it/s]\u001b[A\n",
      "10it [00:01,  6.59it/s]\u001b[A\n",
      " 43%|████████████████████████████████████████▎                                                     | 3/7 [00:04<00:06,  1.54s/it]"
     ]
    },
    {
     "name": "stdout",
     "output_type": "stream",
     "text": [
      "C=0.1 0.842 +- 0.012\n"
     ]
    },
    {
     "name": "stderr",
     "output_type": "stream",
     "text": [
      "\n",
      "  0%|                                                                                                      | 0/5 [00:00<?, ?it/s]\u001b[A\n",
      " 20%|██████████████████▊                                                                           | 1/5 [00:00<00:00,  5.45it/s]\u001b[A\n",
      " 40%|█████████████████████████████████████▌                                                        | 2/5 [00:00<00:00,  5.69it/s]\u001b[A\n",
      " 60%|████████████████████████████████████████████████████████▍                                     | 3/5 [00:00<00:00,  5.89it/s]\u001b[A\n",
      " 80%|███████████████████████████████████████████████████████████████████████████▏                  | 4/5 [00:00<00:00,  5.79it/s]\u001b[A\n",
      "100%|██████████████████████████████████████████████████████████████████████████████████████████████| 5/5 [00:00<00:00,  6.09it/s]\u001b[A\n",
      "6it [00:00,  6.26it/s]                                                                                                           \u001b[A\n",
      "7it [00:01,  6.38it/s]\u001b[A\n",
      "8it [00:01,  6.50it/s]\u001b[A\n",
      "9it [00:01,  6.39it/s]\u001b[A\n",
      "10it [00:01,  6.22it/s]\u001b[A\n",
      " 57%|█████████████████████████████████████████████████████▋                                        | 4/7 [00:06<00:04,  1.57s/it]"
     ]
    },
    {
     "name": "stdout",
     "output_type": "stream",
     "text": [
      "C=0.5 0.842 +- 0.012\n"
     ]
    },
    {
     "name": "stderr",
     "output_type": "stream",
     "text": [
      "\n",
      "  0%|                                                                                                      | 0/5 [00:00<?, ?it/s]\u001b[A\n",
      " 20%|██████████████████▊                                                                           | 1/5 [00:00<00:00,  6.51it/s]\u001b[A\n",
      " 40%|█████████████████████████████████████▌                                                        | 2/5 [00:00<00:00,  6.68it/s]\u001b[A\n",
      " 60%|████████████████████████████████████████████████████████▍                                     | 3/5 [00:00<00:00,  6.09it/s]\u001b[A\n",
      " 80%|███████████████████████████████████████████████████████████████████████████▏                  | 4/5 [00:00<00:00,  6.22it/s]\u001b[A\n",
      "100%|██████████████████████████████████████████████████████████████████████████████████████████████| 5/5 [00:00<00:00,  6.35it/s]\u001b[A\n",
      "6it [00:01,  5.67it/s]                                                                                                           \u001b[A\n",
      "7it [00:01,  5.93it/s]\u001b[A\n",
      "8it [00:01,  6.16it/s]\u001b[A\n",
      "9it [00:01,  6.28it/s]\u001b[A\n",
      "10it [00:01,  6.19it/s]\u001b[A\n",
      " 71%|███████████████████████████████████████████████████████████████████▏                          | 5/7 [00:07<00:03,  1.58s/it]"
     ]
    },
    {
     "name": "stdout",
     "output_type": "stream",
     "text": [
      "C=1 0.842 +- 0.012\n"
     ]
    },
    {
     "name": "stderr",
     "output_type": "stream",
     "text": [
      "\n",
      "  0%|                                                                                                      | 0/5 [00:00<?, ?it/s]\u001b[A\n",
      " 20%|██████████████████▊                                                                           | 1/5 [00:00<00:00,  6.81it/s]\u001b[A\n",
      " 40%|█████████████████████████████████████▌                                                        | 2/5 [00:00<00:00,  6.44it/s]\u001b[A\n",
      " 60%|████████████████████████████████████████████████████████▍                                     | 3/5 [00:00<00:00,  6.36it/s]\u001b[A\n",
      " 80%|███████████████████████████████████████████████████████████████████████████▏                  | 4/5 [00:00<00:00,  6.58it/s]\u001b[A\n",
      "100%|██████████████████████████████████████████████████████████████████████████████████████████████| 5/5 [00:00<00:00,  6.57it/s]\u001b[A\n",
      "6it [00:00,  6.71it/s]                                                                                                           \u001b[A\n",
      "7it [00:01,  6.77it/s]\u001b[A\n",
      "8it [00:01,  6.75it/s]\u001b[A\n",
      "9it [00:01,  6.76it/s]\u001b[A\n",
      "10it [00:01,  6.67it/s]\u001b[A\n",
      " 86%|████████████████████████████████████████████████████████████████████████████████▌             | 6/7 [00:09<00:01,  1.56s/it]"
     ]
    },
    {
     "name": "stdout",
     "output_type": "stream",
     "text": [
      "C=5 0.842 +- 0.012\n"
     ]
    },
    {
     "name": "stderr",
     "output_type": "stream",
     "text": [
      "\n",
      "  0%|                                                                                                      | 0/5 [00:00<?, ?it/s]\u001b[A\n",
      " 20%|██████████████████▊                                                                           | 1/5 [00:00<00:00,  6.81it/s]\u001b[A\n",
      " 40%|█████████████████████████████████████▌                                                        | 2/5 [00:00<00:00,  6.53it/s]\u001b[A\n",
      " 60%|████████████████████████████████████████████████████████▍                                     | 3/5 [00:00<00:00,  5.00it/s]\u001b[A\n",
      " 80%|███████████████████████████████████████████████████████████████████████████▏                  | 4/5 [00:00<00:00,  5.53it/s]\u001b[A\n",
      "100%|██████████████████████████████████████████████████████████████████████████████████████████████| 5/5 [00:00<00:00,  5.41it/s]\u001b[A\n",
      "6it [00:01,  5.74it/s]                                                                                                           \u001b[A\n",
      "7it [00:01,  5.86it/s]\u001b[A\n",
      "8it [00:01,  5.51it/s]\u001b[A\n",
      "9it [00:01,  5.83it/s]\u001b[A\n",
      "10it [00:01,  5.79it/s]\u001b[A\n",
      "100%|██████████████████████████████████████████████████████████████████████████████████████████████| 7/7 [00:11<00:00,  1.58s/it]"
     ]
    },
    {
     "name": "stdout",
     "output_type": "stream",
     "text": [
      "C=10 0.842 +- 0.012\n"
     ]
    },
    {
     "name": "stderr",
     "output_type": "stream",
     "text": [
      "\n"
     ]
    }
   ],
   "source": [
    "n_splits = 5\n",
    "\n",
    "for C in tqdm([0.001, 0.01, 0.1, 0.5, 1, 5, 10]):\n",
    "    kfold = KFold(n_splits=10, shuffle=True, random_state=1)\n",
    "    \n",
    "    scores = []\n",
    "\n",
    "    for train_idx, val_idx in \\\n",
    "                tqdm(kfold.split(df_full_train), total=n_splits):\n",
    "        df_train = df_full_train.iloc[train_idx]\n",
    "        df_val = df_full_train.iloc[val_idx]\n",
    "    \n",
    "        y_train = df_train.churn.values\n",
    "        y_val = df_val.churn.values    \n",
    "        \n",
    "        dv, model = train(df_train, y_train, C=C)\n",
    "        y_pred = predict(df_val, dv, model)\n",
    "    \n",
    "        auc = roc_auc_score(y_val, y_pred)\n",
    "        scores.append(auc)\n",
    "\n",
    "    print('C=%s %.3f +- %.3f' % (C, np.mean(scores), np.std(scores)))"
   ]
  },
  {
   "cell_type": "code",
   "execution_count": 1785,
   "id": "02f7ae96-8af4-447b-9e81-61a16e0be158",
   "metadata": {},
   "outputs": [
    {
     "data": {
      "text/plain": [
       "np.float64(0.8579400803839363)"
      ]
     },
     "execution_count": 1785,
     "metadata": {},
     "output_type": "execute_result"
    }
   ],
   "source": [
    "dv, model = train(df_full_train, df_full_train.churn.values, C=1.0)\n",
    "y_pred = predict(df_test, dv, model)\n",
    "    \n",
    "auc = roc_auc_score(y_test, y_pred)\n",
    "auc"
   ]
  },
  {
   "cell_type": "code",
   "execution_count": null,
   "id": "e61d465e-369f-4fe2-96e3-9d16a47db454",
   "metadata": {},
   "outputs": [],
   "source": []
  },
  {
   "cell_type": "markdown",
   "id": "d96e1c44-4a56-4014-846d-908271eaf8dc",
   "metadata": {},
   "source": [
    "### 8. Summary\n",
    "- Metric - a single number that describes the performance of a model\n",
    "- Accuracy - fraction of correct answers; something misleading\n",
    "- Precision and recall are less misleading when we have class imbalance\n",
    "- ROC Curve - a way to evaluate the performance at all thresholds; okay to use with imbalance\n",
    "- K-Fold CV - more reliable estimate for performance (mean + std)"
   ]
  },
  {
   "cell_type": "code",
   "execution_count": null,
   "id": "01c62fcf-77ad-45fc-8eb8-4b43303c9307",
   "metadata": {},
   "outputs": [],
   "source": []
  },
  {
   "cell_type": "markdown",
   "id": "242e9ab6-1277-4fb6-ad6d-3d40f34edcb0",
   "metadata": {},
   "source": [
    "### 9. Explore more\n",
    "- Check the precision and recall of the dummy classifier\n",
    "- F1 score = 2 * P * R / (P + R)\n",
    "- Evaluate precision and recall at different thresholds, plot P vs R - this way, you'll ge the precision/recall curve (similar to the ROC curve)\n",
    "- Area under the PR curve is also a useful metric\n",
    "\n",
    "Other projects:\n",
    "- Calculate the metrics for datasets from the previous week"
   ]
  },
  {
   "cell_type": "code",
   "execution_count": null,
   "id": "6e01df63-85fe-4373-a3e7-329a7f109928",
   "metadata": {},
   "outputs": [],
   "source": []
  }
 ],
 "metadata": {
  "kernelspec": {
   "display_name": "Python 3 (ipykernel)",
   "language": "python",
   "name": "python3"
  },
  "language_info": {
   "codemirror_mode": {
    "name": "ipython",
    "version": 3
   },
   "file_extension": ".py",
   "mimetype": "text/x-python",
   "name": "python",
   "nbconvert_exporter": "python",
   "pygments_lexer": "ipython3",
   "version": "3.12.1"
  }
 },
 "nbformat": 4,
 "nbformat_minor": 5
}
